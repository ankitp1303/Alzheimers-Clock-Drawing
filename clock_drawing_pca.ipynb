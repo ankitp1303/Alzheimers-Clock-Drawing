{
 "cells": [
  {
   "cell_type": "markdown",
   "metadata": {},
   "source": [
    "# Principal Component Analysis of Clock Drawing\n",
    "\n",
    "In this notebook, Principal Component Analysis (PCA) is used to perform dimensionality reduction on the RowanSOM Clock Drawing dataset.\n",
    "\n",
    "First, import our tools."
   ]
  },
  {
   "cell_type": "code",
   "execution_count": 1,
   "metadata": {},
   "outputs": [],
   "source": [
    "import numpy as np\n",
    "import pandas as pd\n",
    "from sklearn.decomposition import PCA\n",
    "from sklearn.preprocessing import MinMaxScaler\n",
    "from sklearn.model_selection import train_test_split as tts\n",
    "import matplotlib.pyplot as plt\n",
    "import xgboost as xgb\n",
    "from sklearn.metrics import accuracy_score"
   ]
  },
  {
   "cell_type": "markdown",
   "metadata": {},
   "source": [
    "It is useful to keep track of which features are categorical, as PCA is not very helpful for categorical features."
   ]
  },
  {
   "cell_type": "code",
   "execution_count": 2,
   "metadata": {},
   "outputs": [
    {
     "name": "stdout",
     "output_type": "stream",
     "text": [
      "Number of categorical features: 67\n"
     ]
    }
   ],
   "source": [
    "categorical_cols = ['comm_DwgTotStrokes',\n",
    "                    'copy_DwgTotStrokes_A',     \n",
    "                    'ClockFace1TotStrokes',\n",
    "                    'ClockFace1TotStrokes_A',\n",
    "                    'CFNonCFTerminator',\n",
    "                    '7.comm_HH1TotStrokes',\n",
    "                    '7.copy_HH1TotStrokes',\n",
    "                    '12.comm_MH1TotStrokes',\n",
    "                    '12.copy_MH1TotStrokes',\n",
    "                    'Digit1Strokes',\n",
    "                    'Digit1Strokes_A',\n",
    "                    'Digit2Strokes',\n",
    "                    'Digit2Strokes_A',\n",
    "                    'Digit3Strokes',\n",
    "                    'Digit3Strokes_A',\n",
    "                    'Digit4Strokes',\n",
    "                    'Digit4Strokes_A',\n",
    "                    'Digit5Strokes',\n",
    "                    'Digit5Strokes_A',\n",
    "                    'Digit6Strokes',\n",
    "                    'Digit6Strokes_A',\n",
    "                    'Digit7Strokes',\n",
    "                    'Digit7Strokes_A',\n",
    "                    'Digit8Strokes',\n",
    "                    'Digit8Strokes_A',\n",
    "                    'Digit9Strokes',\n",
    "                    'Digit9Strokes_A',\n",
    "                    'Digit10Strokes',\n",
    "                    'Digit10Strokes_A',\n",
    "                    'Digit11Strokes',\n",
    "                    'Digit11Strokes_A',\n",
    "                    'Digit12Strokes',\n",
    "                    'Digit12Strokes_A',\n",
    "                    'Digit1Outside',\n",
    "                    'Digit1Outside_A',\n",
    "                    'Digit2Outside',\n",
    "                    'Digit2Outside_A',\n",
    "                    'Digit3Outside',\n",
    "                    'Digit3Outside_A',\n",
    "                    'Digit4Outside',\n",
    "                    'Digit4Outside_A',\n",
    "                    'Digit5Outside',\n",
    "                    'Digit5Outside_A',\n",
    "                    'Digit6Outside',\n",
    "                    'Digit6Outside_A',\n",
    "                    'Digit7Outside',\n",
    "                    'Digit7Outside_A',\n",
    "                    'Digit8Outside',\n",
    "                    'Digit8Outside_A',\n",
    "                    'Digit9Outside',\n",
    "                    'Digit9Outside_A',\n",
    "                    'Digit10Outside',\n",
    "                    'Digit10Outside_A',\n",
    "                    'Digit11Outside',\n",
    "                    'Digit11Outside_A',\n",
    "                    'Digit12Outside',\n",
    "                    'Digit12Outside_A',\n",
    "                    'CenterDotStrokeNum',\n",
    "                    'CenterDotStrokeNum_A',\n",
    "                    'PreFirstHandNoNoiseInitiator',\n",
    "                    'PreFirstHandNoNoiseInitiator_A',\n",
    "                    'PreSecondHandNoNoiseInitiator',\n",
    "                    'PreSecondHandNoNoiseInitiator_A',\n",
    "                    'InterDigitIntervalCount',\n",
    "                    'InterDigitIntervalCount_A',\n",
    "                    'AnchorLatencyIntervalCount',\n",
    "                    'AnchorLatencyIntervalCount_A']\n",
    "\n",
    "print('Number of categorical features:', len(categorical_cols))"
   ]
  },
  {
   "cell_type": "markdown",
   "metadata": {},
   "source": [
    "We define a function to load our data."
   ]
  },
  {
   "cell_type": "code",
   "execution_count": 3,
   "metadata": {},
   "outputs": [],
   "source": [
    "def load_data(split=True):\n",
    "    data = pd.read_csv('CombinedV2Filter.csv')\n",
    "    \n",
    "    \n",
    "    if split:\n",
    "        categorical = data[categorical_cols]\n",
    "        continuous = data.drop(categorical_cols, axis=1)\n",
    "        return categorical, continuous\n",
    "    else:\n",
    "        return data"
   ]
  },
  {
   "cell_type": "markdown",
   "metadata": {},
   "source": [
    "Now, let's load our data. We want to take care to remove the column with our target data."
   ]
  },
  {
   "cell_type": "code",
   "execution_count": 4,
   "metadata": {},
   "outputs": [
    {
     "name": "stdout",
     "output_type": "stream",
     "text": [
      "Categorical subset shape: (196, 67)\n",
      "Continuous subset shape: (196, 285)\n"
     ]
    }
   ],
   "source": [
    "categorical, continuous = load_data()\n",
    "continuous.drop(['dx_1'], axis=1, inplace=True)\n",
    "\n",
    "print('Categorical subset shape:', categorical.shape)\n",
    "print('Continuous subset shape:', continuous.shape)"
   ]
  },
  {
   "cell_type": "markdown",
   "metadata": {},
   "source": [
    "We see that our categorical features have been split off from our continuous features. This is good, as we can apply PCA to the entire continuous subset."
   ]
  },
  {
   "cell_type": "code",
   "execution_count": 5,
   "metadata": {},
   "outputs": [
    {
     "data": {
      "image/png": "[encoded data removed]",
      "text/plain": [
       "<Figure size 432x288 with 1 Axes>"
      ]
     },
     "metadata": {
      "needs_background": "light"
     },
     "output_type": "display_data"
    }
   ],
   "source": [
    "pca = PCA()\n",
    "pca.fit(continuous)\n",
    "plt.stem(pca.explained_variance_ratio_, use_line_collection=True)\n",
    "plt.xlabel('Principal Component')\n",
    "plt.ylabel('Explained Variance')\n",
    "plt.grid()\n",
    "plt.show()"
   ]
  },
  {
   "cell_type": "markdown",
   "metadata": {},
   "source": [
    "The above plot shows the percentage of total variance in the data explained by each principal component. Clearly, there is a large amount of variance information contained in the first several principal components. We can exploit this information to perform dimensionality reduction. \n",
    "\n",
    "In some applications, it is useful to use the extracted high-information principal components directly. However, in this setting we wish to know which features are the most important. Therefore, we wish to perform feature selection, instead of feature extraction.\n",
    "\n",
    "To do this, we will first trim our principal components to only the first N such that we can explain 95% of the variance in the data."
   ]
  },
  {
   "cell_type": "code",
   "execution_count": 6,
   "metadata": {},
   "outputs": [
    {
     "name": "stdout",
     "output_type": "stream",
     "text": [
      "Cumulative explained variance: 0.950027374745868\n"
     ]
    },
    {
     "data": {
      "image/png": "[encoded data removed]",
      "text/plain": [
       "<Figure size 432x288 with 1 Axes>"
      ]
     },
     "metadata": {
      "needs_background": "light"
     },
     "output_type": "display_data"
    }
   ],
   "source": [
    "biggest = {'components': [],\n",
    "           'explained_variance': []}\n",
    "ev_sum = 0\n",
    "for component, explained_variance in zip(pca.components_,\n",
    "                                         pca.explained_variance_ratio_):\n",
    "    biggest['components'].append(component)\n",
    "    biggest['explained_variance'].append(explained_variance)\n",
    "    ev_sum += explained_variance\n",
    "    if ev_sum >= .95:\n",
    "        print('Cumulative explained variance:', ev_sum)\n",
    "        break\n",
    "        \n",
    "plt.stem(biggest['explained_variance'], use_line_collection=True)\n",
    "plt.xlabel('Principal Component')\n",
    "plt.ylabel('Explained Variance')\n",
    "plt.grid()\n",
    "plt.show()"
   ]
  },
  {
   "cell_type": "markdown",
   "metadata": {},
   "source": [
    "We have gone from 196 principal components to just 75, while retaining 95% of the information about the variance of the data.\n",
    "\n",
    "Now that we have the principal components with the highest density, we can extract from them the features that were most important in their construction.\n",
    "\n",
    "For each principal component, the absolute contribution of each feature is normalized, and any feature with a normalized principal axis greater than 0.5 is considered to be \"important\", and has its weight incremented by the explanatory fraction of its principal component.\n",
    "\n",
    "In order to maintain a total of 100 selected features, we choose the 33 most heavily-weighted continuous features (to be selected along with the 67 categorical features)."
   ]
  },
  {
   "cell_type": "code",
   "execution_count": 7,
   "metadata": {},
   "outputs": [],
   "source": [
    "indices = np.zeros(continuous.shape[1])\n",
    "for component, weight in zip(biggest['components'], biggest['explained_variance']):\n",
    "    normalized = MinMaxScaler().fit_transform(np.abs(component).reshape(-1, 1))\n",
    "    indices[np.nonzero(normalized > 0.5)[0]] += weight\n",
    "\n",
    "important_indices = np.argsort(indices)[-33:]"
   ]
  },
  {
   "cell_type": "markdown",
   "metadata": {},
   "source": [
    "Now we can construct our final list of selected features. The important continuous features are printed below, and the categorical features are already known (see [2])."
   ]
  },
  {
   "cell_type": "code",
   "execution_count": 8,
   "metadata": {},
   "outputs": [
    {
     "name": "stdout",
     "output_type": "stream",
     "text": [
      "['Digit7DistCircum_A', 'Digit3Width', 'Digit10Width', '4.copy_ClockFace1EllipVSymm', 'Digit2DistCircum_A', 'Digit8DistCircum_A', 'copy_InkLenTimeCCQ2', 'Digit5DistCircum_A', 'Digit2Width', 'Digit6DistCircum_A', 'Digit1DistCircum_A', 'ClockFace1HorSymm_A', 'Digit9Width', 'Digit5Width', 'comm_InkLenTimeCCQ4', 'Digit12Width', 'Digit7DistCircum', 'Digit5CentY', 'Digit4CentY', 'Digit6CentY', 'Digit7CentY', 'Digit8CentY', 'Digit4CentX', 'Digit2CentX', 'Digit4CentX_A', 'Digit3CentX_A', 'Digit5CentX', 'Digit3CentX', 'Digit2CentX_A', 'Digit1CentX', 'Digit1CentX_A', 'CFnonCFterminator_A', 'CFNonCFNoNoiseTerminator']\n"
     ]
    }
   ],
   "source": [
    "important_indices = np.argsort(indices)[-33:]\n",
    "features = list(continuous)\n",
    "important_features = []\n",
    "for i in important_indices:\n",
    "    important_features.append(features[i])\n",
    "selected_features = categorical_cols + important_features\n",
    "\n",
    "print(important_features)"
   ]
  },
  {
   "cell_type": "markdown",
   "metadata": {},
   "source": [
    "Let's evaluate how impactful this dimensionality reduction is. First, let's load a clean copy of our data and split it into training and testing folds."
   ]
  },
  {
   "cell_type": "code",
   "execution_count": 9,
   "metadata": {},
   "outputs": [],
   "source": [
    "data = load_data(split=False)\n",
    "targets = data.loc[:, 'dx_1']\n",
    "data.drop(['dx_1'], axis=1, inplace=True)\n",
    "x_train, x_test, y_train, y_test = tts(data, targets, test_size=0.3, random_state=42)"
   ]
  },
  {
   "cell_type": "markdown",
   "metadata": {},
   "source": [
    "We will use XGBoost as a test classifier."
   ]
  },
  {
   "cell_type": "code",
   "execution_count": 10,
   "metadata": {},
   "outputs": [
    {
     "name": "stdout",
     "output_type": "stream",
     "text": [
      "XGBClasifier performance on full dataset: 0.3559322033898305\n"
     ]
    }
   ],
   "source": [
    "def make_xgb_classifier():\n",
    "    return xgb.XGBClassifier(max_depth=10,\n",
    "                             learning_rate=0.1,\n",
    "                             n_estimators=1000,\n",
    "                             objective='multi:softmax',\n",
    "                             num_class=5,\n",
    "                             n_jobs=-1)\n",
    "\n",
    "clf = make_xgb_classifier()\n",
    "clf.fit(x_train, y_train)\n",
    "predictions = clf.predict(x_test)\n",
    "print('XGBClasifier performance on full dataset:', accuracy_score(y_test, predictions))"
   ]
  },
  {
   "cell_type": "markdown",
   "metadata": {},
   "source": [
    "On the full dataset with 352 features, the XGBoost classifier achieves an accuracy of 35.593%. This is somewhat impressive, as the dataset comprises 5 classes; a random guesser would achieve an accuracy of 20%.\n",
    "\n",
    "Now, let's train an XGBoost classifier on the dataset with 100 features."
   ]
  },
  {
   "cell_type": "code",
   "execution_count": 11,
   "metadata": {},
   "outputs": [
    {
     "name": "stdout",
     "output_type": "stream",
     "text": [
      "XGBClasifier performance on trimmed dataset: 0.3898305084745763\n"
     ]
    }
   ],
   "source": [
    "trimmed_data = data.loc[:, selected_features]\n",
    "x_train_t, x_test_t, y_train_t, y_test_t = tts(trimmed_data, targets, test_size=0.3, random_state=42)\n",
    "\n",
    "clf_t = make_xgb_classifier()\n",
    "\n",
    "clf_t.fit(x_train_t, y_train_t)\n",
    "predictions_t = clf_t.predict(x_test_t)\n",
    "print('XGBClasifier performance on trimmed dataset:', accuracy_score(y_test_t, predictions_t))"
   ]
  },
  {
   "cell_type": "markdown",
   "metadata": {},
   "source": [
    "We see that the performance on the trimmed dataset is 38.983%, 3.39 percent improvement. "
   ]
  },
  {
   "cell_type": "code",
   "execution_count": null,
   "metadata": {},
   "outputs": [],
   "source": []
  }
 ],
 "metadata": {
  "kernelspec": {
   "display_name": "Python 3",
   "language": "python",
   "name": "python3"
  },
  "language_info": {
   "codemirror_mode": {
    "name": "ipython",
    "version": 3
   },
   "file_extension": ".py",
   "mimetype": "text/x-python",
   "name": "python",
   "nbconvert_exporter": "python",
   "pygments_lexer": "ipython3",
   "version": "3.7.3"
  }
 },
 "nbformat": 4,
 "nbformat_minor": 2
}
